{
  "nbformat": 4,
  "nbformat_minor": 0,
  "metadata": {
    "colab": {
      "name": "Macc x Thot.ipynb",
      "provenance": [],
      "authorship_tag": "ABX9TyNSN0oODl0vumnu/4EZkG10",
      "include_colab_link": true
    },
    "kernelspec": {
      "name": "python3",
      "display_name": "Python 3"
    }
  },
  "cells": [
    {
      "cell_type": "markdown",
      "metadata": {
        "id": "view-in-github",
        "colab_type": "text"
      },
      "source": [
        "<a href=\"https://colab.research.google.com/github/mackaronipatel/googlecolab/blob/main/Macc_x_Thot.ipynb\" target=\"_parent\"><img src=\"https://colab.research.google.com/assets/colab-badge.svg\" alt=\"Open In Colab\"/></a>"
      ]
    },
    {
      "cell_type": "code",
      "metadata": {
        "colab": {
          "base_uri": "https://localhost:8080/"
        },
        "id": "aKhfKH-K_u3Q",
        "outputId": "44d43037-75a1-4972-8392-674dd2eedc86"
      },
      "source": [
        "print(\"This is my Google Jupyter Notebook\")\r\n",
        "sounds = [\"yeeeEeEEUhh\", \"cooooo mannn\", \"brrr momo sound\", \"yutai sound\", \"appa sound\", \"GROCERIESSS\", \"asuuuhhhh dud\", \"badum bee dah\", \"ogeee magggg\", \"miaaaaooow\", \"nikhila hello 👋🏽\", \"waxing gibbous\"]\r\n",
        "for i in range(0,len(sounds)):\r\n",
        "  print(\"My baby go \" + sounds[i] + \"!\")\r\n"
      ],
      "execution_count": 5,
      "outputs": [
        {
          "output_type": "stream",
          "text": [
            "This is my Google Jupyter Notebook\n",
            "My baby go yeeeEeEEUhh!\n",
            "My baby go cooooo mannn!\n",
            "My baby go brrr momo sound!\n",
            "My baby go yutai sound!\n",
            "My baby go appa sound!\n",
            "My baby go GROCERIESSS!\n",
            "My baby go asuuuhhhh dud!\n",
            "My baby go badum bee dah!\n",
            "My baby go ogeee magggg!\n",
            "My baby go miaaaaooow!\n",
            "My baby go nikhila hello 👋🏽!\n",
            "My baby go waxing gibbous!\n"
          ],
          "name": "stdout"
        }
      ]
    }
  ]
}